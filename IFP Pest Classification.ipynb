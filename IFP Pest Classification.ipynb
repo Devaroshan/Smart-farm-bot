{
 "cells": [
  {
   "cell_type": "code",
   "execution_count": 1,
   "metadata": {},
   "outputs": [],
   "source": [
    "import warnings\n",
    "warnings.filterwarnings(\"ignore\")"
   ]
  },
  {
   "cell_type": "code",
   "execution_count": 2,
   "metadata": {},
   "outputs": [],
   "source": [
    "import numpy as np\n",
    "import matplotlib.pyplot as plt\n",
    "import pandas as pd\n",
    "from tensorflow.keras.models import Sequential,Model\n",
    "from tensorflow.keras.layers import Dense,Activation,Dropout,Conv2D,Flatten,MaxPool2D,Reshape,GlobalAveragePooling2D,InputLayer\n",
    "from tensorflow.keras.applications.resnet50 import ResNet50\n",
    "from keras.applications.resnet import ResNet50\n",
    "from keras.applications.vgg19 import VGG19\n",
    "from keras.applications.inception_v3 import InceptionV3\n",
    "from tensorflow.keras.applications.resnet50 import preprocess_input\n",
    "from tensorflow.keras.preprocessing import image\n",
    "from tensorflow.keras.preprocessing.image import ImageDataGenerator,load_img,img_to_array\n",
    "from tensorflow.keras.callbacks import EarlyStopping, ReduceLROnPlateau"
   ]
  },
  {
   "cell_type": "code",
   "execution_count": 23,
   "metadata": {},
   "outputs": [],
   "source": [
    "IMAGE_SIZE = [229,229]\n",
    "path = r\"C:\\Users\\HP\\Downloads\\dataset\""
   ]
  },
  {
   "cell_type": "code",
   "execution_count": 24,
   "metadata": {},
   "outputs": [],
   "source": [
    "train_data_gen = ImageDataGenerator(rescale = 1./255,\n",
    "                             shear_range = 0.2,\n",
    "                             zoom_range = 0.2,\n",
    "                             horizontal_flip = True,\n",
    "                             validation_split = 0.30)\n",
    "test_data_gen = ImageDataGenerator(rescale = 1./255,validation_split = 0.30)"
   ]
  },
  {
   "cell_type": "code",
   "execution_count": 25,
   "metadata": {},
   "outputs": [
    {
     "name": "stdout",
     "output_type": "stream",
     "text": [
      "Found 1197 images belonging to 2 classes.\n",
      "Found 512 images belonging to 2 classes.\n"
     ]
    }
   ],
   "source": [
    "training_set = train_data_gen.flow_from_directory(path,\n",
    "                                                 target_size=(229,229),\n",
    "                                                 batch_size=100,\n",
    "                                                 class_mode='categorical',\n",
    "                                                 shuffle=True,\n",
    "                                                 color_mode='rgb',\n",
    "                                                 subset = 'training')\n",
    "\n",
    "testing_set = test_data_gen.flow_from_directory(path,\n",
    "                                                 target_size=(229,229),\n",
    "                                                 batch_size=100,\n",
    "                                                 class_mode='categorical',\n",
    "                                                 shuffle=True,\n",
    "                                                 color_mode='rgb',\n",
    "                                                 subset = 'validation')"
   ]
  },
  {
   "cell_type": "code",
   "execution_count": 26,
   "metadata": {},
   "outputs": [
    {
     "data": {
      "text/plain": [
       "{'diseased': 0, 'healthy': 1}"
      ]
     },
     "execution_count": 26,
     "metadata": {},
     "output_type": "execute_result"
    }
   ],
   "source": [
    "training_set.class_indices"
   ]
  },
  {
   "cell_type": "code",
   "execution_count": 27,
   "metadata": {},
   "outputs": [
    {
     "data": {
      "text/plain": [
       "2"
      ]
     },
     "execution_count": 27,
     "metadata": {},
     "output_type": "execute_result"
    }
   ],
   "source": [
    "from glob import glob\n",
    "folders = glob(r\".\\dataset\\*\")\n",
    "len(folders)"
   ]
  },
  {
   "cell_type": "code",
   "execution_count": 28,
   "metadata": {},
   "outputs": [],
   "source": [
    "inception = InceptionV3(input_shape=IMAGE_SIZE+[3],weights='imagenet',include_top=False)"
   ]
  },
  {
   "cell_type": "code",
   "execution_count": 29,
   "metadata": {},
   "outputs": [],
   "source": [
    "for layer in inception.layers:\n",
    "    layer.trainable = False\n",
    "    \n",
    "for layer in inception.layers[250:]:\n",
    "    layer.trainable = True"
   ]
  },
  {
   "cell_type": "code",
   "execution_count": 30,
   "metadata": {},
   "outputs": [
    {
     "name": "stdout",
     "output_type": "stream",
     "text": [
      "Model: \"sequential_2\"\n",
      "_________________________________________________________________\n",
      " Layer (type)                Output Shape              Param #   \n",
      "=================================================================\n",
      " inception_v3 (Functional)   (None, 5, 5, 2048)        21802784  \n",
      "                                                                 \n",
      " flatten_2 (Flatten)         (None, 51200)             0         \n",
      "                                                                 \n",
      " dense_2 (Dense)             (None, 2)                 102402    \n",
      "                                                                 \n",
      "=================================================================\n",
      "Total params: 21,905,186\n",
      "Trainable params: 10,643,842\n",
      "Non-trainable params: 11,261,344\n",
      "_________________________________________________________________\n"
     ]
    }
   ],
   "source": [
    "model = Sequential()\n",
    "model.add(inception)\n",
    "model.add(Flatten())\n",
    "model.add(Dense(units = 2, activation = 'sigmoid'))\n",
    "model.summary()"
   ]
  },
  {
   "cell_type": "code",
   "execution_count": 31,
   "metadata": {},
   "outputs": [],
   "source": [
    "model.compile(loss='categorical_crossentropy',optimizer='adam',metrics=['accuracy'])"
   ]
  },
  {
   "cell_type": "code",
   "execution_count": 32,
   "metadata": {},
   "outputs": [],
   "source": [
    "early_stop = EarlyStopping(monitor='val_accuracy', \n",
    "                           patience=5,verbose=1,mode='auto')\n",
    "\n",
    "lr = ReduceLROnPlateau(monitor='val_accuracy', \n",
    "                       factor=0.2,patience=5, \n",
    "                       min_lr=0.00001)\n",
    "\n",
    "callback = [early_stop,lr]"
   ]
  },
  {
   "cell_type": "code",
   "execution_count": 34,
   "metadata": {},
   "outputs": [
    {
     "name": "stdout",
     "output_type": "stream",
     "text": [
      "Epoch 1/20\n",
      "12/12 [==============================] - 97s 8s/step - loss: 0.0030 - accuracy: 0.9983 - val_loss: 0.0889 - val_accuracy: 0.9902 - lr: 0.0010\n",
      "Epoch 2/20\n",
      "12/12 [==============================] - 97s 8s/step - loss: 9.4353e-04 - accuracy: 1.0000 - val_loss: 0.1103 - val_accuracy: 0.9805 - lr: 0.0010\n",
      "Epoch 3/20\n",
      "12/12 [==============================] - 97s 8s/step - loss: 0.0028 - accuracy: 0.9992 - val_loss: 0.0723 - val_accuracy: 0.9883 - lr: 0.0010\n",
      "Epoch 4/20\n",
      "12/12 [==============================] - 98s 8s/step - loss: 0.0077 - accuracy: 0.9967 - val_loss: 0.5359 - val_accuracy: 0.9141 - lr: 0.0010\n",
      "Epoch 5/20\n",
      "12/12 [==============================] - 97s 8s/step - loss: 0.0307 - accuracy: 0.9950 - val_loss: 0.0999 - val_accuracy: 0.9805 - lr: 0.0010\n",
      "Epoch 6/20\n",
      "12/12 [==============================] - 97s 8s/step - loss: 0.0052 - accuracy: 0.9983 - val_loss: 0.0390 - val_accuracy: 0.9922 - lr: 0.0010\n",
      "Epoch 7/20\n",
      "12/12 [==============================] - 96s 8s/step - loss: 0.0016 - accuracy: 0.9992 - val_loss: 0.0707 - val_accuracy: 0.9844 - lr: 0.0010\n",
      "Epoch 8/20\n",
      "12/12 [==============================] - 98s 8s/step - loss: 6.6448e-04 - accuracy: 1.0000 - val_loss: 0.1044 - val_accuracy: 0.9785 - lr: 0.0010\n",
      "Epoch 9/20\n",
      "12/12 [==============================] - 98s 8s/step - loss: 0.0027 - accuracy: 0.9992 - val_loss: 0.0881 - val_accuracy: 0.9844 - lr: 0.0010\n",
      "Epoch 10/20\n",
      "12/12 [==============================] - 113s 10s/step - loss: 0.0045 - accuracy: 0.9983 - val_loss: 0.0632 - val_accuracy: 0.9863 - lr: 0.0010\n",
      "Epoch 11/20\n",
      "12/12 [==============================] - 133s 11s/step - loss: 5.8333e-04 - accuracy: 1.0000 - val_loss: 0.0933 - val_accuracy: 0.9785 - lr: 0.0010\n",
      "Epoch 11: early stopping\n"
     ]
    }
   ],
   "source": [
    "result = model.fit(training_set, validation_data=testing_set, epochs=20,\n",
    "    steps_per_epoch=len(training_set),validation_steps=len(testing_set),callbacks=callback)"
   ]
  },
  {
   "cell_type": "code",
   "execution_count": 35,
   "metadata": {},
   "outputs": [
    {
     "data": {
      "image/png": "[encoded data removed]",
      "text/plain": [
       "<Figure size 432x288 with 1 Axes>"
      ]
     },
     "metadata": {
      "needs_background": "light"
     },
     "output_type": "display_data"
    },
    {
     "data": {
      "image/png": "[encoded data removed]",
      "text/plain": [
       "<Figure size 432x288 with 1 Axes>"
      ]
     },
     "metadata": {
      "needs_background": "light"
     },
     "output_type": "display_data"
    }
   ],
   "source": [
    "plt.plot(result.history['loss'], label='train loss')\n",
    "plt.plot(result.history['val_loss'], label='val loss')\n",
    "plt.legend()\n",
    "plt.show()\n",
    "\n",
    "# plot the accuracy\n",
    "plt.plot(result.history['accuracy'], label='train acc')\n",
    "plt.plot(result.history['val_accuracy'], label='val acc')\n",
    "plt.legend()\n",
    "plt.show()"
   ]
  },
  {
   "cell_type": "code",
   "execution_count": 40,
   "metadata": {},
   "outputs": [],
   "source": [
    "model.save(\"final_model.h5\")"
   ]
  },
  {
   "cell_type": "code",
   "execution_count": 41,
   "metadata": {},
   "outputs": [
    {
     "name": "stdout",
     "output_type": "stream",
     "text": [
      "The accuracy of the model:100.00 %\n",
      "The accuracy of the testing:97.85 %\n"
     ]
    }
   ],
   "source": [
    "print(\"The accuracy of the model:{:.2f} %\".format(result.history['accuracy'][-1]*100))\n",
    "print(\"The accuracy of the testing:{:.2f} %\".format(result.history['val_accuracy'][-1]*100))"
   ]
  },
  {
   "cell_type": "code",
   "execution_count": null,
   "metadata": {},
   "outputs": [],
   "source": []
  }
 ],
 "metadata": {
  "kernelspec": {
   "display_name": "Python 3 (ipykernel)",
   "language": "python",
   "name": "python3"
  },
  "language_info": {
   "codemirror_mode": {
    "name": "ipython",
    "version": 3
   },
   "file_extension": ".py",
   "mimetype": "text/x-python",
   "name": "python",
   "nbconvert_exporter": "python",
   "pygments_lexer": "ipython3",
   "version": "3.10.3"
  }
 },
 "nbformat": 4,
 "nbformat_minor": 4
}
