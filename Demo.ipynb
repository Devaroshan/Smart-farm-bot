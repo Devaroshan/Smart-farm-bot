{
 "cells": [
  {
   "cell_type": "code",
   "execution_count": 1,
   "metadata": {},
   "outputs": [],
   "source": [
    "import numpy as np\n",
    "import cv2\n",
    "import keras\n",
    "from tensorflow.keras.models import Model, load_model\n",
    "from keras.preprocessing import image"
   ]
  },
  {
   "cell_type": "code",
   "execution_count": 2,
   "metadata": {},
   "outputs": [
    {
     "name": "stdout",
     "output_type": "stream",
     "text": [
      "-1\n"
     ]
    }
   ],
   "source": [
    "cam=cv2.VideoCapture(0)\n",
    "while True:\n",
    "    ret, image = cam.read()\n",
    "    cv2.imshow('Imagetest',image)\n",
    "    k = cv2.waitKey(1)\n",
    "    print(k)\n",
    "    if k == -1:\n",
    "        break\n",
    "cv2.imwrite(r'C:\\Users\\HP\\Downloads\\image\\testimage.jpg', image)\n",
    "cam.release()\n",
    "cv2.destroyAllWindows()"
   ]
  },
  {
   "cell_type": "code",
   "execution_count": 3,
   "metadata": {},
   "outputs": [
    {
     "name": "stdout",
     "output_type": "stream",
     "text": [
      "1/1 [==============================] - 3s 3s/step\n",
      "predict class is diseased\n"
     ]
    }
   ],
   "source": [
    "classes_names = ['diseased','healthy']\n",
    "model = load_model(r\"C:\\Users\\HP\\Downloads\\final_model.h5\") \n",
    "#img=cv2.imread(r\"C:\\Users\\HP\\Downloads\\dataset\\diseased\\650.jpg\")\n",
    "img=cv2.imread(r\"C:\\Users\\HP\\Downloads\\image\\testimage.jpg\")\n",
    "img=cv2.resize(img,(229,229))\n",
    "img = img.astype('float32')/255.\n",
    "img = np.expand_dims(img, axis=0)\n",
    "prediction = model.predict(img)\n",
    "classes = np.argmax(prediction, axis = 1)\n",
    "print(\"predict class is \", classes_names[classes[0]], sep='')"
   ]
  },
  {
   "cell_type": "code",
   "execution_count": null,
   "metadata": {},
   "outputs": [],
   "source": []
  }
 ],
 "metadata": {
  "kernelspec": {
   "display_name": "Python 3 (ipykernel)",
   "language": "python",
   "name": "python3"
  },
  "language_info": {
   "codemirror_mode": {
    "name": "ipython",
    "version": 3
   },
   "file_extension": ".py",
   "mimetype": "text/x-python",
   "name": "python",
   "nbconvert_exporter": "python",
   "pygments_lexer": "ipython3",
   "version": "3.10.3"
  }
 },
 "nbformat": 4,
 "nbformat_minor": 4
}
